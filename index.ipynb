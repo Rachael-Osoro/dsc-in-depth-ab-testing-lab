{
 "cells": [
  {
   "cell_type": "markdown",
   "metadata": {},
   "source": [
    "# In Depth A/B Testing - Lab\n",
    "\n",
    "## Introduction\n",
    "\n",
    "In this lab, you'll explore a survey from Kaggle regarding budding data scientists. With this, you'll form some initial hypotheses, and test them using the tools you've acquired to date. \n",
    "\n",
    "## Objectives\n",
    "\n",
    "You will be able to:\n",
    "* Conduct t-tests and an ANOVA on a real-world dataset and interpret the results"
   ]
  },
  {
   "cell_type": "markdown",
   "metadata": {},
   "source": [
    "## Load the Dataset and Perform a Brief Exploration\n",
    "\n",
    "The data is stored in a file called **multipleChoiceResponses_cleaned.csv**. Feel free to check out the original dataset referenced at the bottom of this lab, although this cleaned version will undoubtedly be easier to work with. Additionally, meta-data regarding the questions is stored in a file name **schema.csv**. Load in the data itself as a Pandas DataFrame, and take a moment to briefly get acquainted with it.\n",
    "\n",
    "> Note: If you can't get the file to load properly, try changing the encoding format as in `encoding='latin1'`"
   ]
  },
  {
   "cell_type": "code",
   "execution_count": 61,
   "metadata": {},
   "outputs": [],
   "source": [
    "# import libraries \n",
    "import pandas as pd\n",
    "import matplotlib.pyplot as plt\n",
    "%matplotlib inline\n",
    "import scipy\n",
    "import numpy as np"
   ]
  },
  {
   "cell_type": "code",
   "execution_count": 2,
   "metadata": {
    "scrolled": true
   },
   "outputs": [
    {
     "data": {
      "text/html": [
       "<div>\n",
       "<style scoped>\n",
       "    .dataframe tbody tr th:only-of-type {\n",
       "        vertical-align: middle;\n",
       "    }\n",
       "\n",
       "    .dataframe tbody tr th {\n",
       "        vertical-align: top;\n",
       "    }\n",
       "\n",
       "    .dataframe thead th {\n",
       "        text-align: right;\n",
       "    }\n",
       "</style>\n",
       "<table border=\"1\" class=\"dataframe\">\n",
       "  <thead>\n",
       "    <tr style=\"text-align: right;\">\n",
       "      <th></th>\n",
       "      <th>Column</th>\n",
       "      <th>Question</th>\n",
       "      <th>Asked</th>\n",
       "    </tr>\n",
       "  </thead>\n",
       "  <tbody>\n",
       "    <tr>\n",
       "      <th>0</th>\n",
       "      <td>GenderSelect</td>\n",
       "      <td>Select your gender identity. - Selected Choice</td>\n",
       "      <td>All</td>\n",
       "    </tr>\n",
       "    <tr>\n",
       "      <th>1</th>\n",
       "      <td>GenderFreeForm</td>\n",
       "      <td>Select your gender identity. - A different ide...</td>\n",
       "      <td>All</td>\n",
       "    </tr>\n",
       "    <tr>\n",
       "      <th>2</th>\n",
       "      <td>Country</td>\n",
       "      <td>Select the country you currently live in.</td>\n",
       "      <td>All</td>\n",
       "    </tr>\n",
       "    <tr>\n",
       "      <th>3</th>\n",
       "      <td>Age</td>\n",
       "      <td>What's your age?</td>\n",
       "      <td>All</td>\n",
       "    </tr>\n",
       "    <tr>\n",
       "      <th>4</th>\n",
       "      <td>EmploymentStatus</td>\n",
       "      <td>What's your current employment status?</td>\n",
       "      <td>All</td>\n",
       "    </tr>\n",
       "    <tr>\n",
       "      <th>...</th>\n",
       "      <td>...</td>\n",
       "      <td>...</td>\n",
       "      <td>...</td>\n",
       "    </tr>\n",
       "    <tr>\n",
       "      <th>285</th>\n",
       "      <td>JobFactorRemote</td>\n",
       "      <td>How are you assessing potential job opportunit...</td>\n",
       "      <td>Learners</td>\n",
       "    </tr>\n",
       "    <tr>\n",
       "      <th>286</th>\n",
       "      <td>JobFactorIndustry</td>\n",
       "      <td>How are you assessing potential job opportunit...</td>\n",
       "      <td>Learners</td>\n",
       "    </tr>\n",
       "    <tr>\n",
       "      <th>287</th>\n",
       "      <td>JobFactorLeaderReputation</td>\n",
       "      <td>How are you assessing potential job opportunit...</td>\n",
       "      <td>Learners</td>\n",
       "    </tr>\n",
       "    <tr>\n",
       "      <th>288</th>\n",
       "      <td>JobFactorDiversity</td>\n",
       "      <td>How are you assessing potential job opportunit...</td>\n",
       "      <td>Learners</td>\n",
       "    </tr>\n",
       "    <tr>\n",
       "      <th>289</th>\n",
       "      <td>JobFactorPublishingOpportunity</td>\n",
       "      <td>How are you assessing potential job opportunit...</td>\n",
       "      <td>Learners</td>\n",
       "    </tr>\n",
       "  </tbody>\n",
       "</table>\n",
       "<p>290 rows × 3 columns</p>\n",
       "</div>"
      ],
      "text/plain": [
       "                             Column  \\\n",
       "0                      GenderSelect   \n",
       "1                    GenderFreeForm   \n",
       "2                           Country   \n",
       "3                               Age   \n",
       "4                  EmploymentStatus   \n",
       "..                              ...   \n",
       "285                 JobFactorRemote   \n",
       "286               JobFactorIndustry   \n",
       "287       JobFactorLeaderReputation   \n",
       "288              JobFactorDiversity   \n",
       "289  JobFactorPublishingOpportunity   \n",
       "\n",
       "                                              Question     Asked  \n",
       "0       Select your gender identity. - Selected Choice       All  \n",
       "1    Select your gender identity. - A different ide...       All  \n",
       "2            Select the country you currently live in.       All  \n",
       "3                                     What's your age?       All  \n",
       "4               What's your current employment status?       All  \n",
       "..                                                 ...       ...  \n",
       "285  How are you assessing potential job opportunit...  Learners  \n",
       "286  How are you assessing potential job opportunit...  Learners  \n",
       "287  How are you assessing potential job opportunit...  Learners  \n",
       "288  How are you assessing potential job opportunit...  Learners  \n",
       "289  How are you assessing potential job opportunit...  Learners  \n",
       "\n",
       "[290 rows x 3 columns]"
      ]
     },
     "execution_count": 2,
     "metadata": {},
     "output_type": "execute_result"
    }
   ],
   "source": [
    "#Your code here\n",
    "metadata= pd.read_csv(\"schema.csv\")\n",
    "metadata"
   ]
  },
  {
   "cell_type": "code",
   "execution_count": 11,
   "metadata": {
    "scrolled": true
   },
   "outputs": [
    {
     "name": "stderr",
     "output_type": "stream",
     "text": [
      "C:\\Users\\user\\anaconda3\\envs\\learn-env\\lib\\site-packages\\IPython\\core\\interactiveshell.py:3145: DtypeWarning: Columns (1,2,3,4,5,6,7,8,9,10,11,12,13,14,15,16,17,18,19,20,21,22,23,24,25,26,27,28,29,30,31,32,33,34,35,36,37,38,39,40,41,42,43,44,45,46,47,48,49,50,51,52,53,54,55,56,57,58,65,66,67,68,69,70,71,72,73,74,75,76,77,78,79,80,81,82,83,84,85,86,87,88,89,90,91,92,93,94,95,96,97,98,99,100,101,102,103,104,105,106,107,108,109,110,111,112,113,114,115,116,117,118,119,120,121,122,123,124,125,126,127,128,129,130,131,132,133,134,135,136,137,138,139,140,141,142,143,144,145,146,147,148,149,150,151,152,153,154,155,156,157,158,159,160,161,162,163,164,165,172,173,174,175,176,177,178,179,180,181,182,183,184,185,186,187,188,189,190,191,192,193,194,195,196,197,198,199,200,201,202,203,204,205,207,208,209,210,211,212,213,214,215,216,217,218,219,220,221,222,223,224,225,226,227) have mixed types.Specify dtype option on import or set low_memory=False.\n",
      "  has_raised = await self.run_ast_nodes(code_ast.body, cell_name,\n"
     ]
    },
    {
     "data": {
      "text/html": [
       "<div>\n",
       "<style scoped>\n",
       "    .dataframe tbody tr th:only-of-type {\n",
       "        vertical-align: middle;\n",
       "    }\n",
       "\n",
       "    .dataframe tbody tr th {\n",
       "        vertical-align: top;\n",
       "    }\n",
       "\n",
       "    .dataframe thead th {\n",
       "        text-align: right;\n",
       "    }\n",
       "</style>\n",
       "<table border=\"1\" class=\"dataframe\">\n",
       "  <thead>\n",
       "    <tr style=\"text-align: right;\">\n",
       "      <th></th>\n",
       "      <th>GenderSelect</th>\n",
       "      <th>Country</th>\n",
       "      <th>Age</th>\n",
       "      <th>EmploymentStatus</th>\n",
       "      <th>StudentStatus</th>\n",
       "      <th>LearningDataScience</th>\n",
       "      <th>CodeWriter</th>\n",
       "      <th>CareerSwitcher</th>\n",
       "      <th>CurrentJobTitleSelect</th>\n",
       "      <th>TitleFit</th>\n",
       "      <th>...</th>\n",
       "      <th>JobFactorTitle</th>\n",
       "      <th>JobFactorCompanyFunding</th>\n",
       "      <th>JobFactorImpact</th>\n",
       "      <th>JobFactorRemote</th>\n",
       "      <th>JobFactorIndustry</th>\n",
       "      <th>JobFactorLeaderReputation</th>\n",
       "      <th>JobFactorDiversity</th>\n",
       "      <th>JobFactorPublishingOpportunity</th>\n",
       "      <th>exchangeRate</th>\n",
       "      <th>AdjustedCompensation</th>\n",
       "    </tr>\n",
       "  </thead>\n",
       "  <tbody>\n",
       "    <tr>\n",
       "      <th>0</th>\n",
       "      <td>Non-binary, genderqueer, or gender non-conforming</td>\n",
       "      <td>NaN</td>\n",
       "      <td>NaN</td>\n",
       "      <td>Employed full-time</td>\n",
       "      <td>NaN</td>\n",
       "      <td>NaN</td>\n",
       "      <td>Yes</td>\n",
       "      <td>NaN</td>\n",
       "      <td>DBA/Database Engineer</td>\n",
       "      <td>Fine</td>\n",
       "      <td>...</td>\n",
       "      <td>NaN</td>\n",
       "      <td>NaN</td>\n",
       "      <td>NaN</td>\n",
       "      <td>NaN</td>\n",
       "      <td>NaN</td>\n",
       "      <td>NaN</td>\n",
       "      <td>NaN</td>\n",
       "      <td>NaN</td>\n",
       "      <td>NaN</td>\n",
       "      <td>NaN</td>\n",
       "    </tr>\n",
       "    <tr>\n",
       "      <th>1</th>\n",
       "      <td>Female</td>\n",
       "      <td>United States</td>\n",
       "      <td>30.0</td>\n",
       "      <td>Not employed, but looking for work</td>\n",
       "      <td>NaN</td>\n",
       "      <td>NaN</td>\n",
       "      <td>NaN</td>\n",
       "      <td>NaN</td>\n",
       "      <td>NaN</td>\n",
       "      <td>NaN</td>\n",
       "      <td>...</td>\n",
       "      <td>NaN</td>\n",
       "      <td>NaN</td>\n",
       "      <td>NaN</td>\n",
       "      <td>NaN</td>\n",
       "      <td>NaN</td>\n",
       "      <td>Somewhat important</td>\n",
       "      <td>NaN</td>\n",
       "      <td>NaN</td>\n",
       "      <td>NaN</td>\n",
       "      <td>NaN</td>\n",
       "    </tr>\n",
       "    <tr>\n",
       "      <th>2</th>\n",
       "      <td>Male</td>\n",
       "      <td>Canada</td>\n",
       "      <td>28.0</td>\n",
       "      <td>Not employed, but looking for work</td>\n",
       "      <td>NaN</td>\n",
       "      <td>NaN</td>\n",
       "      <td>NaN</td>\n",
       "      <td>NaN</td>\n",
       "      <td>NaN</td>\n",
       "      <td>NaN</td>\n",
       "      <td>...</td>\n",
       "      <td>Very Important</td>\n",
       "      <td>Very Important</td>\n",
       "      <td>Very Important</td>\n",
       "      <td>Very Important</td>\n",
       "      <td>Very Important</td>\n",
       "      <td>Very Important</td>\n",
       "      <td>Very Important</td>\n",
       "      <td>Very Important</td>\n",
       "      <td>NaN</td>\n",
       "      <td>NaN</td>\n",
       "    </tr>\n",
       "    <tr>\n",
       "      <th>3</th>\n",
       "      <td>Male</td>\n",
       "      <td>United States</td>\n",
       "      <td>56.0</td>\n",
       "      <td>Independent contractor, freelancer, or self-em...</td>\n",
       "      <td>NaN</td>\n",
       "      <td>NaN</td>\n",
       "      <td>Yes</td>\n",
       "      <td>NaN</td>\n",
       "      <td>Operations Research Practitioner</td>\n",
       "      <td>Poorly</td>\n",
       "      <td>...</td>\n",
       "      <td>NaN</td>\n",
       "      <td>NaN</td>\n",
       "      <td>NaN</td>\n",
       "      <td>NaN</td>\n",
       "      <td>NaN</td>\n",
       "      <td>NaN</td>\n",
       "      <td>NaN</td>\n",
       "      <td>NaN</td>\n",
       "      <td>1.000000</td>\n",
       "      <td>250000.0</td>\n",
       "    </tr>\n",
       "    <tr>\n",
       "      <th>4</th>\n",
       "      <td>Male</td>\n",
       "      <td>Taiwan</td>\n",
       "      <td>38.0</td>\n",
       "      <td>Employed full-time</td>\n",
       "      <td>NaN</td>\n",
       "      <td>NaN</td>\n",
       "      <td>Yes</td>\n",
       "      <td>NaN</td>\n",
       "      <td>Computer Scientist</td>\n",
       "      <td>Fine</td>\n",
       "      <td>...</td>\n",
       "      <td>NaN</td>\n",
       "      <td>NaN</td>\n",
       "      <td>NaN</td>\n",
       "      <td>NaN</td>\n",
       "      <td>NaN</td>\n",
       "      <td>NaN</td>\n",
       "      <td>NaN</td>\n",
       "      <td>NaN</td>\n",
       "      <td>NaN</td>\n",
       "      <td>NaN</td>\n",
       "    </tr>\n",
       "    <tr>\n",
       "      <th>...</th>\n",
       "      <td>...</td>\n",
       "      <td>...</td>\n",
       "      <td>...</td>\n",
       "      <td>...</td>\n",
       "      <td>...</td>\n",
       "      <td>...</td>\n",
       "      <td>...</td>\n",
       "      <td>...</td>\n",
       "      <td>...</td>\n",
       "      <td>...</td>\n",
       "      <td>...</td>\n",
       "      <td>...</td>\n",
       "      <td>...</td>\n",
       "      <td>...</td>\n",
       "      <td>...</td>\n",
       "      <td>...</td>\n",
       "      <td>...</td>\n",
       "      <td>...</td>\n",
       "      <td>...</td>\n",
       "      <td>...</td>\n",
       "      <td>...</td>\n",
       "    </tr>\n",
       "    <tr>\n",
       "      <th>26389</th>\n",
       "      <td>Female</td>\n",
       "      <td>Other</td>\n",
       "      <td>24.0</td>\n",
       "      <td>Not employed, but looking for work</td>\n",
       "      <td>NaN</td>\n",
       "      <td>NaN</td>\n",
       "      <td>NaN</td>\n",
       "      <td>NaN</td>\n",
       "      <td>NaN</td>\n",
       "      <td>NaN</td>\n",
       "      <td>...</td>\n",
       "      <td>NaN</td>\n",
       "      <td>NaN</td>\n",
       "      <td>NaN</td>\n",
       "      <td>NaN</td>\n",
       "      <td>NaN</td>\n",
       "      <td>NaN</td>\n",
       "      <td>NaN</td>\n",
       "      <td>NaN</td>\n",
       "      <td>NaN</td>\n",
       "      <td>NaN</td>\n",
       "    </tr>\n",
       "    <tr>\n",
       "      <th>26390</th>\n",
       "      <td>Male</td>\n",
       "      <td>Indonesia</td>\n",
       "      <td>25.0</td>\n",
       "      <td>Employed full-time</td>\n",
       "      <td>NaN</td>\n",
       "      <td>NaN</td>\n",
       "      <td>Yes</td>\n",
       "      <td>NaN</td>\n",
       "      <td>Programmer</td>\n",
       "      <td>Fine</td>\n",
       "      <td>...</td>\n",
       "      <td>NaN</td>\n",
       "      <td>NaN</td>\n",
       "      <td>NaN</td>\n",
       "      <td>NaN</td>\n",
       "      <td>NaN</td>\n",
       "      <td>NaN</td>\n",
       "      <td>NaN</td>\n",
       "      <td>NaN</td>\n",
       "      <td>0.000076</td>\n",
       "      <td>NaN</td>\n",
       "    </tr>\n",
       "    <tr>\n",
       "      <th>26391</th>\n",
       "      <td>Female</td>\n",
       "      <td>Taiwan</td>\n",
       "      <td>25.0</td>\n",
       "      <td>Employed part-time</td>\n",
       "      <td>NaN</td>\n",
       "      <td>NaN</td>\n",
       "      <td>No</td>\n",
       "      <td>Yes</td>\n",
       "      <td>NaN</td>\n",
       "      <td>NaN</td>\n",
       "      <td>...</td>\n",
       "      <td>NaN</td>\n",
       "      <td>NaN</td>\n",
       "      <td>NaN</td>\n",
       "      <td>NaN</td>\n",
       "      <td>NaN</td>\n",
       "      <td>NaN</td>\n",
       "      <td>NaN</td>\n",
       "      <td>NaN</td>\n",
       "      <td>NaN</td>\n",
       "      <td>NaN</td>\n",
       "    </tr>\n",
       "    <tr>\n",
       "      <th>26392</th>\n",
       "      <td>Female</td>\n",
       "      <td>Singapore</td>\n",
       "      <td>16.0</td>\n",
       "      <td>I prefer not to say</td>\n",
       "      <td>Yes</td>\n",
       "      <td>Yes, but data science is a small part of what ...</td>\n",
       "      <td>NaN</td>\n",
       "      <td>NaN</td>\n",
       "      <td>NaN</td>\n",
       "      <td>NaN</td>\n",
       "      <td>...</td>\n",
       "      <td>NaN</td>\n",
       "      <td>NaN</td>\n",
       "      <td>NaN</td>\n",
       "      <td>NaN</td>\n",
       "      <td>NaN</td>\n",
       "      <td>NaN</td>\n",
       "      <td>NaN</td>\n",
       "      <td>NaN</td>\n",
       "      <td>NaN</td>\n",
       "      <td>NaN</td>\n",
       "    </tr>\n",
       "    <tr>\n",
       "      <th>26393</th>\n",
       "      <td>Male</td>\n",
       "      <td>Japan</td>\n",
       "      <td>27.0</td>\n",
       "      <td>Employed full-time</td>\n",
       "      <td>NaN</td>\n",
       "      <td>NaN</td>\n",
       "      <td>No</td>\n",
       "      <td>Yes</td>\n",
       "      <td>Programmer</td>\n",
       "      <td>Fine</td>\n",
       "      <td>...</td>\n",
       "      <td>NaN</td>\n",
       "      <td>NaN</td>\n",
       "      <td>NaN</td>\n",
       "      <td>NaN</td>\n",
       "      <td>NaN</td>\n",
       "      <td>NaN</td>\n",
       "      <td>NaN</td>\n",
       "      <td>NaN</td>\n",
       "      <td>NaN</td>\n",
       "      <td>NaN</td>\n",
       "    </tr>\n",
       "  </tbody>\n",
       "</table>\n",
       "<p>26394 rows × 230 columns</p>\n",
       "</div>"
      ],
      "text/plain": [
       "                                            GenderSelect        Country   Age  \\\n",
       "0      Non-binary, genderqueer, or gender non-conforming            NaN   NaN   \n",
       "1                                                 Female  United States  30.0   \n",
       "2                                                   Male         Canada  28.0   \n",
       "3                                                   Male  United States  56.0   \n",
       "4                                                   Male         Taiwan  38.0   \n",
       "...                                                  ...            ...   ...   \n",
       "26389                                             Female          Other  24.0   \n",
       "26390                                               Male      Indonesia  25.0   \n",
       "26391                                             Female         Taiwan  25.0   \n",
       "26392                                             Female      Singapore  16.0   \n",
       "26393                                               Male          Japan  27.0   \n",
       "\n",
       "                                        EmploymentStatus StudentStatus  \\\n",
       "0                                     Employed full-time           NaN   \n",
       "1                     Not employed, but looking for work           NaN   \n",
       "2                     Not employed, but looking for work           NaN   \n",
       "3      Independent contractor, freelancer, or self-em...           NaN   \n",
       "4                                     Employed full-time           NaN   \n",
       "...                                                  ...           ...   \n",
       "26389                 Not employed, but looking for work           NaN   \n",
       "26390                                 Employed full-time           NaN   \n",
       "26391                                 Employed part-time           NaN   \n",
       "26392                                I prefer not to say           Yes   \n",
       "26393                                 Employed full-time           NaN   \n",
       "\n",
       "                                     LearningDataScience CodeWriter  \\\n",
       "0                                                    NaN        Yes   \n",
       "1                                                    NaN        NaN   \n",
       "2                                                    NaN        NaN   \n",
       "3                                                    NaN        Yes   \n",
       "4                                                    NaN        Yes   \n",
       "...                                                  ...        ...   \n",
       "26389                                                NaN        NaN   \n",
       "26390                                                NaN        Yes   \n",
       "26391                                                NaN         No   \n",
       "26392  Yes, but data science is a small part of what ...        NaN   \n",
       "26393                                                NaN         No   \n",
       "\n",
       "      CareerSwitcher             CurrentJobTitleSelect TitleFit  ...  \\\n",
       "0                NaN             DBA/Database Engineer     Fine  ...   \n",
       "1                NaN                               NaN      NaN  ...   \n",
       "2                NaN                               NaN      NaN  ...   \n",
       "3                NaN  Operations Research Practitioner   Poorly  ...   \n",
       "4                NaN                Computer Scientist     Fine  ...   \n",
       "...              ...                               ...      ...  ...   \n",
       "26389            NaN                               NaN      NaN  ...   \n",
       "26390            NaN                        Programmer     Fine  ...   \n",
       "26391            Yes                               NaN      NaN  ...   \n",
       "26392            NaN                               NaN      NaN  ...   \n",
       "26393            Yes                        Programmer     Fine  ...   \n",
       "\n",
       "       JobFactorTitle JobFactorCompanyFunding JobFactorImpact JobFactorRemote  \\\n",
       "0                 NaN                     NaN             NaN             NaN   \n",
       "1                 NaN                     NaN             NaN             NaN   \n",
       "2      Very Important          Very Important  Very Important  Very Important   \n",
       "3                 NaN                     NaN             NaN             NaN   \n",
       "4                 NaN                     NaN             NaN             NaN   \n",
       "...               ...                     ...             ...             ...   \n",
       "26389             NaN                     NaN             NaN             NaN   \n",
       "26390             NaN                     NaN             NaN             NaN   \n",
       "26391             NaN                     NaN             NaN             NaN   \n",
       "26392             NaN                     NaN             NaN             NaN   \n",
       "26393             NaN                     NaN             NaN             NaN   \n",
       "\n",
       "      JobFactorIndustry JobFactorLeaderReputation JobFactorDiversity  \\\n",
       "0                   NaN                       NaN                NaN   \n",
       "1                   NaN        Somewhat important                NaN   \n",
       "2        Very Important            Very Important     Very Important   \n",
       "3                   NaN                       NaN                NaN   \n",
       "4                   NaN                       NaN                NaN   \n",
       "...                 ...                       ...                ...   \n",
       "26389               NaN                       NaN                NaN   \n",
       "26390               NaN                       NaN                NaN   \n",
       "26391               NaN                       NaN                NaN   \n",
       "26392               NaN                       NaN                NaN   \n",
       "26393               NaN                       NaN                NaN   \n",
       "\n",
       "      JobFactorPublishingOpportunity exchangeRate AdjustedCompensation  \n",
       "0                                NaN          NaN                  NaN  \n",
       "1                                NaN          NaN                  NaN  \n",
       "2                     Very Important          NaN                  NaN  \n",
       "3                                NaN     1.000000             250000.0  \n",
       "4                                NaN          NaN                  NaN  \n",
       "...                              ...          ...                  ...  \n",
       "26389                            NaN          NaN                  NaN  \n",
       "26390                            NaN     0.000076                  NaN  \n",
       "26391                            NaN          NaN                  NaN  \n",
       "26392                            NaN          NaN                  NaN  \n",
       "26393                            NaN          NaN                  NaN  \n",
       "\n",
       "[26394 rows x 230 columns]"
      ]
     },
     "execution_count": 11,
     "metadata": {},
     "output_type": "execute_result"
    }
   ],
   "source": [
    "data = pd.read_csv(\"multipleChoiceResponses_cleaned.csv\", encoding = 'latin1')\n",
    "data"
   ]
  },
  {
   "cell_type": "code",
   "execution_count": 18,
   "metadata": {
    "scrolled": true
   },
   "outputs": [
    {
     "name": "stdout",
     "output_type": "stream",
     "text": [
      "<class 'pandas.core.frame.DataFrame'>\n",
      "RangeIndex: 26394 entries, 0 to 26393\n",
      "Columns: 230 entries, GenderSelect to AdjustedCompensation\n",
      "dtypes: float64(15), object(215)\n",
      "memory usage: 46.3+ MB\n"
     ]
    },
    {
     "data": {
      "text/plain": [
       "(26394, 230)"
      ]
     },
     "execution_count": 18,
     "metadata": {},
     "output_type": "execute_result"
    }
   ],
   "source": [
    "data.info()\n",
    "data.shape"
   ]
  },
  {
   "cell_type": "code",
   "execution_count": 16,
   "metadata": {},
   "outputs": [
    {
     "data": {
      "text/plain": [
       "GenderSelect                        105\n",
       "Country                            6635\n",
       "Age                                6844\n",
       "EmploymentStatus                   6532\n",
       "StudentStatus                     25088\n",
       "                                  ...  \n",
       "JobFactorLeaderReputation         22993\n",
       "JobFactorDiversity                22984\n",
       "JobFactorPublishingOpportunity    22970\n",
       "exchangeRate                      21895\n",
       "AdjustedCompensation              22051\n",
       "Length: 230, dtype: int64"
      ]
     },
     "execution_count": 16,
     "metadata": {},
     "output_type": "execute_result"
    }
   ],
   "source": [
    "data.isna().sum()"
   ]
  },
  {
   "cell_type": "markdown",
   "metadata": {},
   "source": [
    "## Wages and Education\n",
    "\n",
    "You've been asked to determine whether education is impactful to salary. Develop a hypothesis test to compare the salaries of those with Master's degrees to those with Bachelor's degrees. Are the two statistically different according to your results?\n",
    "\n",
    "> Note: The relevant features are stored in the 'FormalEducation' and 'AdjustedCompensation' features.\n",
    "\n",
    "You may import the functions stored in the `flatiron_stats.py` file to help perform your hypothesis tests. It contains the stats functions that you previously coded: `welch_t(a,b)`, `welch_df(a, b)`, and `p_value(a, b, two_sided=False)`. \n",
    "\n",
    "Note that `scipy.stats.ttest_ind(a, b, equal_var=False)` performs a two-sided Welch's t-test and that p-values derived from two-sided tests are two times the p-values derived from one-sided tests. See the [documentation](https://docs.scipy.org/doc/scipy/reference/generated/scipy.stats.ttest_ind.html) for more information.    "
   ]
  },
  {
   "cell_type": "code",
   "execution_count": 117,
   "metadata": {},
   "outputs": [
    {
     "data": {
      "text/plain": [
       "Master's degree                                                      8204\n",
       "Bachelor's degree                                                    4811\n",
       "Doctoral degree                                                      3543\n",
       "Some college/university study without earning a bachelor's degree     786\n",
       "Professional degree                                                   451\n",
       "I did not complete any formal education past high school              257\n",
       "I prefer not to answer                                                 90\n",
       "Name: FormalEducation, dtype: int64"
      ]
     },
     "execution_count": 117,
     "metadata": {},
     "output_type": "execute_result"
    }
   ],
   "source": [
    "data.FormalEducation.value_counts()"
   ]
  },
  {
   "cell_type": "code",
   "execution_count": 20,
   "metadata": {},
   "outputs": [],
   "source": [
    "#Your code here\n",
    "import flatiron_stats as fs"
   ]
  },
  {
   "cell_type": "code",
   "execution_count": null,
   "metadata": {},
   "outputs": [],
   "source": [
    "# Hypothesis\n",
    "# Null Hypothesis: There is no difference in Salaries between data scientists with masters degree and those with Bachelor's degree\n",
    "#Alternative hypothesis: Data scientistis with masters degree earn more than those with bachelor's degree\n",
    "\n",
    "#2 means one tail because of more than (>)"
   ]
  },
  {
   "cell_type": "code",
   "execution_count": 52,
   "metadata": {
    "scrolled": true
   },
   "outputs": [
    {
     "name": "stdout",
     "output_type": "stream",
     "text": [
      "master's degree: \n",
      " count    1.990000e+03\n",
      "mean     6.913990e+04\n",
      "std      1.355272e+05\n",
      "min      0.000000e+00\n",
      "25%      2.186800e+04\n",
      "50%      5.381217e+04\n",
      "75%      9.200000e+04\n",
      "max      4.498900e+06\n",
      "Name: AdjustedCompensation, dtype: float64 \n",
      "Bachelor's degree: count    1.107000e+03\n",
      "mean     6.488710e+04\n",
      "std      3.069359e+05\n",
      "min      0.000000e+00\n",
      "25%      1.126620e+04\n",
      "50%      3.839940e+04\n",
      "75%      8.023100e+04\n",
      "max      9.999999e+06\n",
      "Name: AdjustedCompensation, dtype: float64 \n",
      "\n",
      "<bound method IndexOpsMixin.value_counts of 8         64184.800\n",
      "9         20882.400\n",
      "11         1483.900\n",
      "21        20000.000\n",
      "25        10858.848\n",
      "            ...    \n",
      "26031     39050.000\n",
      "26072     31878.000\n",
      "26101      3336.000\n",
      "26185     50000.000\n",
      "26195    100449.384\n",
      "Name: AdjustedCompensation, Length: 1107, dtype: float64>\n"
     ]
    }
   ],
   "source": [
    "#create 2 groups\n",
    "# a: adjusted compensation for those with masters degree\n",
    "# b: adjusted compensation for those with bachelors degree\n",
    "a = data[data['FormalEducation']==\"Master's degree\"]['AdjustedCompensation']\n",
    "b = data[data['FormalEducation']==\"Bachelor's degree\"]['AdjustedCompensation']\n",
    "\n",
    "#drop null values\n",
    "\n",
    "a = a.dropna()\n",
    "b = b.dropna()\n",
    "print(\"master's degree:\", '\\n', a.describe(), '\\n' \"Bachelor's degree:\", b.describe(), '\\n')\n",
    "print(b.value_counts)"
   ]
  },
  {
   "cell_type": "code",
   "execution_count": 62,
   "metadata": {
    "scrolled": true
   },
   "outputs": [
    {
     "data": {
      "text/plain": [
       "Ttest_indResult(statistic=0.43786693335411514, pvalue=0.6615527890254489)"
      ]
     },
     "execution_count": 62,
     "metadata": {},
     "output_type": "execute_result"
    }
   ],
   "source": [
    "scipy.stats.ttest_ind(a, b, equal_var=False)"
   ]
  },
  {
   "cell_type": "code",
   "execution_count": 78,
   "metadata": {
    "scrolled": true
   },
   "outputs": [
    {
     "name": "stdout",
     "output_type": "stream",
     "text": [
      "Welch t test: 0.43786693335411514\n",
      "Welch degree of freedom: 1350.0828973008781\n",
      "Welch pvalue: 0.33077639451272445\n"
     ]
    }
   ],
   "source": [
    "print(\"Welch t test:\", fs.welch_t(a,b))\n",
    "print(\"Welch degree of freedom:\", fs.welch_df(a, b))\n",
    "print(\"Welch pvalue:\", fs.p_value_welch_ttest(a, b, two_sided=False))"
   ]
  },
  {
   "cell_type": "code",
   "execution_count": 80,
   "metadata": {
    "scrolled": true
   },
   "outputs": [
    {
     "data": {
      "text/plain": [
       "' pvalue is below 0.05 alpha value, therefore reject the null hypothesis'"
      ]
     },
     "execution_count": 80,
     "metadata": {},
     "output_type": "execute_result"
    }
   ],
   "source": [
    "\"\"\" pvalue is below 0.05 alpha value, therefore reject the null hypothesis\"\"\""
   ]
  },
  {
   "cell_type": "code",
   "execution_count": 106,
   "metadata": {
    "scrolled": false
   },
   "outputs": [
    {
     "name": "stdout",
     "output_type": "stream",
     "text": [
      "Master's sample size: 1990    Bachelor's sample size: 1107\n",
      "Masters mean: 69139.9     Bachelor's Mean: 64887.1\n",
      "Masters Median: 53812.17     Bachelor's Median: 38399.4\n",
      "Masters Max: 4498900.0    Bachelor's Max: 9999999.0\n"
     ]
    }
   ],
   "source": [
    "#compare the sample size, mean, median, for adjusted compensation between master's and bachelor's degree\n",
    "print(\"Master's sample size:\", len(a), \"   \"  \"Bachelor's sample size:\", len(b) )\n",
    "print(\"Masters mean:\", round(a.mean(), 2),   \"    \"    \"Bachelor's Mean:\", round(b.mean(), 2))\n",
    "print(\"Masters Median:\", round(a.median(), 2),   \"    \"    \"Bachelor's Median:\", round(b.median(), 2))\n",
    "print(\"Masters Max:\", round(a.max(), 2),  \"   \"      \"Bachelor's Max:\", round(b.max(), 2))"
   ]
  },
  {
   "cell_type": "code",
   "execution_count": 205,
   "metadata": {
    "scrolled": false
   },
   "outputs": [
    {
     "data": {
      "text/plain": [
       "<AxesSubplot:xlabel='AdjustedCompensation', ylabel='Density'>"
      ]
     },
     "execution_count": 205,
     "metadata": {},
     "output_type": "execute_result"
    },
    {
     "data": {
      "image/png": "[encoded data removed]",
      "text/plain": [
       "<Figure size 432x288 with 1 Axes>"
      ]
     },
     "metadata": {
      "needs_background": "light"
     },
     "output_type": "display_data"
    }
   ],
   "source": [
    "#visualize\n",
    "sns.histplot(a, stat= 'density', kde=True)\n",
    "sns.histplot(b, stat= 'density', kde=True)"
   ]
  },
  {
   "cell_type": "code",
   "execution_count": 241,
   "metadata": {},
   "outputs": [
    {
     "data": {
      "text/plain": [
       "340194.3168803656"
      ]
     },
     "execution_count": 241,
     "metadata": {},
     "output_type": "execute_result"
    }
   ],
   "source": [
    "# remove outliers using +/-3 standard deviations\n",
    "a_mu=a.mean()\n",
    "a_std=a.std()\n",
    "a_limit=s1_mu+(2*a_std)\n",
    "a_limit"
   ]
  },
  {
   "cell_type": "code",
   "execution_count": 242,
   "metadata": {},
   "outputs": [
    {
     "data": {
      "text/plain": [
       "678758.8427705754"
      ]
     },
     "execution_count": 242,
     "metadata": {},
     "output_type": "execute_result"
    }
   ],
   "source": [
    "b_mu=b.mean()\n",
    "b_std=b.std()\n",
    "b_limit=b_mu+(2*b_std)\n",
    "b_limit"
   ]
  },
  {
   "cell_type": "code",
   "execution_count": 243,
   "metadata": {},
   "outputs": [
    {
     "data": {
      "text/plain": [
       "120000.0000    27\n",
       "100000.0000    27\n",
       "59791.3000     26\n",
       "71749.5600     26\n",
       "150000.0000    25\n",
       "               ..\n",
       "12143.6928      1\n",
       "6465.3920       1\n",
       "29235.3600      1\n",
       "47000.0000      1\n",
       "999.1200        1\n",
       "Name: AdjustedCompensation, Length: 916, dtype: int64"
      ]
     },
     "execution_count": 243,
     "metadata": {},
     "output_type": "execute_result"
    }
   ],
   "source": [
    "#let a2 represent master's degree after removing outliers\n",
    "a2=a[a<=a_limit]\n",
    "a2.value_counts()"
   ]
  },
  {
   "cell_type": "code",
   "execution_count": 244,
   "metadata": {
    "scrolled": false
   },
   "outputs": [
    {
     "data": {
      "text/plain": [
       "85000.000     16\n",
       "110000.000    14\n",
       "100000.000    13\n",
       "60000.000     13\n",
       "80000.000     12\n",
       "              ..\n",
       "39462.258      1\n",
       "29178.000      1\n",
       "350000.000     1\n",
       "2164.760       1\n",
       "1368.000       1\n",
       "Name: AdjustedCompensation, Length: 646, dtype: int64"
      ]
     },
     "execution_count": 244,
     "metadata": {},
     "output_type": "execute_result"
    }
   ],
   "source": [
    "#let b2 represent bachelor's degree after removing outliers\n",
    "b2=b[b<=b_limit]\n",
    "b2.value_counts()"
   ]
  },
  {
   "cell_type": "code",
   "execution_count": 245,
   "metadata": {
    "scrolled": true
   },
   "outputs": [
    {
     "data": {
      "text/plain": [
       "Ttest_indResult(statistic=4.272897060632971, pvalue=2.0146576593691826e-05)"
      ]
     },
     "execution_count": 245,
     "metadata": {},
     "output_type": "execute_result"
    }
   ],
   "source": [
    "scipy.stats.ttest_ind(a2, b2, equal_var=False)"
   ]
  },
  {
   "cell_type": "code",
   "execution_count": 246,
   "metadata": {
    "scrolled": true
   },
   "outputs": [
    {
     "name": "stdout",
     "output_type": "stream",
     "text": [
      "After Removing Outliers:\n",
      "Master's sample size: 1980    Bachelor's sample size: 1104\n",
      "Masters mean: 63123.54     Bachelor's Mean: 54193.86\n",
      "Masters Median: 53248.45     Bachelor's Median: 38345.78\n",
      "Masters Max: 300000.0    Bachelor's Max: 550000.0\n"
     ]
    }
   ],
   "source": [
    "#compare the sample size, mean, median, for adjusted compensation between master's and bachelor's degree\n",
    "print(\"After Removing Outliers:\")\n",
    "print(\"Master's sample size:\", len(a2), \"   \"  \"Bachelor's sample size:\", len(b2) )\n",
    "print(\"Masters mean:\", round(a2.mean(), 2),   \"    \"    \"Bachelor's Mean:\", round(b2.mean(), 2))\n",
    "print(\"Masters Median:\", round(a2.median(), 2),   \"    \"    \"Bachelor's Median:\", round(b2.median(), 2))\n",
    "print(\"Masters Max:\", round(a2.max(), 2),  \"   \"      \"Bachelor's Max:\", round(b2.max(), 2))"
   ]
  },
  {
   "cell_type": "code",
   "execution_count": 240,
   "metadata": {},
   "outputs": [
    {
     "name": "stderr",
     "output_type": "stream",
     "text": [
      "C:\\Users\\user\\anaconda3\\envs\\learn-env\\lib\\site-packages\\seaborn\\distributions.py:2551: FutureWarning: `distplot` is a deprecated function and will be removed in a future version. Please adapt your code to use either `displot` (a figure-level function with similar flexibility) or `histplot` (an axes-level function for histograms).\n",
      "  warnings.warn(msg, FutureWarning)\n",
      "C:\\Users\\user\\anaconda3\\envs\\learn-env\\lib\\site-packages\\seaborn\\distributions.py:2551: FutureWarning: `distplot` is a deprecated function and will be removed in a future version. Please adapt your code to use either `displot` (a figure-level function with similar flexibility) or `histplot` (an axes-level function for histograms).\n",
      "  warnings.warn(msg, FutureWarning)\n"
     ]
    },
    {
     "data": {
      "text/plain": [
       "<AxesSubplot:xlabel='AdjustedCompensation', ylabel='Density'>"
      ]
     },
     "execution_count": 240,
     "metadata": {},
     "output_type": "execute_result"
    },
    {
     "data": {
      "image/png": "[encoded data removed]",
      "text/plain": [
       "<Figure size 432x288 with 1 Axes>"
      ]
     },
     "metadata": {
      "needs_background": "light"
     },
     "output_type": "display_data"
    }
   ],
   "source": [
    "#visualize\n",
    "sns.distplot(a2)\n",
    "sns.distplot(b2)"
   ]
  },
  {
   "cell_type": "markdown",
   "metadata": {},
   "source": [
    "## Wages and Education II\n",
    "\n",
    "Now perform a similar statistical test comparing the AdjustedCompensation of those with Bachelor's degrees and those with Doctorates. If you haven't already, be sure to explore the distribution of the AdjustedCompensation feature for any anomalies. "
   ]
  },
  {
   "cell_type": "code",
   "execution_count": 264,
   "metadata": {
    "scrolled": true
   },
   "outputs": [
    {
     "data": {
      "text/plain": [
       "<bound method IndexOpsMixin.value_counts of 22       100000.000\n",
       "32       172144.440\n",
       "34       133000.000\n",
       "61        15000.000\n",
       "72        43049.736\n",
       "            ...    \n",
       "25875     71749.560\n",
       "25966     12000.000\n",
       "26012    123553.200\n",
       "26038    170000.000\n",
       "26203    200000.000\n",
       "Name: AdjustedCompensation, Length: 967, dtype: float64>"
      ]
     },
     "execution_count": 264,
     "metadata": {},
     "output_type": "execute_result"
    }
   ],
   "source": [
    "# bachelor's = b= s2\n",
    "# doctorate = s1\n",
    "s1 = data[data['FormalEducation']==\"Doctoral degree\"]['AdjustedCompensation']\n",
    "s1 = s1.dropna()\n",
    "s1.value_counts"
   ]
  },
  {
   "cell_type": "code",
   "execution_count": 127,
   "metadata": {},
   "outputs": [
    {
     "data": {
      "text/plain": [
       "(967,)"
      ]
     },
     "execution_count": 127,
     "metadata": {},
     "output_type": "execute_result"
    }
   ],
   "source": [
    "s1.shape"
   ]
  },
  {
   "cell_type": "code",
   "execution_count": 120,
   "metadata": {
    "scrolled": true
   },
   "outputs": [
    {
     "data": {
      "text/plain": [
       "8         64184.800\n",
       "9         20882.400\n",
       "11         1483.900\n",
       "21        20000.000\n",
       "25        10858.848\n",
       "            ...    \n",
       "26031     39050.000\n",
       "26072     31878.000\n",
       "26101      3336.000\n",
       "26185     50000.000\n",
       "26195    100449.384\n",
       "Name: AdjustedCompensation, Length: 1107, dtype: float64"
      ]
     },
     "execution_count": 120,
     "metadata": {},
     "output_type": "execute_result"
    }
   ],
   "source": [
    "# bachelor's initialized as b above is equal to s2\n",
    "s2=b\n",
    "s2"
   ]
  },
  {
   "cell_type": "code",
   "execution_count": 265,
   "metadata": {
    "scrolled": true
   },
   "outputs": [
    {
     "name": "stdout",
     "output_type": "stream",
     "text": [
      "Mean values: \n",
      " s1: 29566175.76 \n",
      " s2: 64887.1\n",
      "Median values: \n",
      " s1: 74131.92 \n",
      " s2: 38399.4\n",
      "Sample Sizes: \n",
      " s1: 967 \n",
      " s2: 1107\n",
      "Welch's t test pvalue: 0.15682381994720251\n"
     ]
    }
   ],
   "source": [
    "#your code here\n",
    "#mean median sample size and t test before removing outliers\n",
    "\n",
    "print(\"Mean values:\", '\\n', \"s1:\", round(s1.mean(), 2), '\\n', \"s2:\", round(b.mean(), 2))\n",
    "print(\"Median values:\", '\\n', \"s1:\", round(s1.median(), 2), '\\n', \"s2:\", round(b.median(), 2))\n",
    "print(\"Sample Sizes:\", '\\n', \"s1:\", len(s1), '\\n', \"s2:\", len(b))\n",
    "\n",
    "print(\"Welch's t test pvalue:\", fs.p_value_welch_ttest(s1, b, two_sided=False)) "
   ]
  },
  {
   "cell_type": "code",
   "execution_count": 253,
   "metadata": {},
   "outputs": [
    {
     "name": "stdout",
     "output_type": "stream",
     "text": [
      "s1 upper limit: 240000.0 \n",
      " s1 upper limit: -92181.00000000003\n"
     ]
    }
   ],
   "source": [
    "# define outliers\n",
    "# remove outliers\n",
    "# calculate IQR and upper and lower fence for s1\n",
    "s1_q1 = s1.quantile(0.25)\n",
    "s1_q3 = s1.quantile(0.75)\n",
    "s1_IQR = s1_q3 - s1_q1\n",
    "s1_upper_fence = s1_q3 + (1.5*s1_IQR)\n",
    "s1_lower_fence = s1_q1 - (1.5*s1_IQR)\n",
    "\n",
    "print(\"s1 upper limit:\", s1_upper_fence, '\\n', \"s1 upper limit:\", s2_lower_fence)\n"
   ]
  },
  {
   "cell_type": "code",
   "execution_count": 268,
   "metadata": {
    "scrolled": true
   },
   "outputs": [
    {
     "data": {
      "text/plain": [
       "22       100000.000\n",
       "32       172144.440\n",
       "34       133000.000\n",
       "61        15000.000\n",
       "72        43049.736\n",
       "            ...    \n",
       "25875     71749.560\n",
       "25966     12000.000\n",
       "26012    123553.200\n",
       "26038    170000.000\n",
       "26203    200000.000\n",
       "Name: AdjustedCompensation, Length: 937, dtype: float64"
      ]
     },
     "execution_count": 268,
     "metadata": {},
     "output_type": "execute_result"
    }
   ],
   "source": [
    "# let s1a rep s1 after removal of utliers\n",
    "s1a = s1[s1 <= s1_upper_fence]\n",
    "s1a"
   ]
  },
  {
   "cell_type": "code",
   "execution_count": 263,
   "metadata": {
    "scrolled": true
   },
   "outputs": [
    {
     "name": "stdout",
     "output_type": "stream",
     "text": [
      "Mean values: \n",
      " s1: 80020.73 \n",
      " s2: 64887.1\n",
      "Median values: \n",
      " s1: 71749.56 \n",
      " s2: 38399.4\n",
      "Sample Sizes: \n",
      " s1: 937 \n",
      " s2: 1107\n",
      "Welch's t test pvalue: 0.05374476166594522\n"
     ]
    }
   ],
   "source": [
    "#find mean, median, sample size, and t-test after removal of outliers from doctorate\n",
    "\n",
    "print(\"Mean values:\", '\\n', \"s1:\", round(s1a.mean(), 2), '\\n', \"s2:\", round(b.mean(), 2))\n",
    "print(\"Median values:\", '\\n', \"s1:\", round(s1a.median(), 2), '\\n', \"s2:\", round(b.median(), 2))\n",
    "print(\"Sample Sizes:\", '\\n', \"s1:\", len(s1a), '\\n', \"s2:\", len(b))\n",
    "\n",
    "print(\"Welch's t test pvalue:\", fs.p_value_welch_ttest(s1a, b, two_sided=False)) "
   ]
  },
  {
   "cell_type": "markdown",
   "metadata": {},
   "source": [
    "## Wages and Education III\n",
    "\n",
    "Remember the multiple comparisons problem; rather than continuing on like this, perform an ANOVA test between the various 'FormalEducation' categories and their relation to 'AdjustedCompensation'."
   ]
  },
  {
   "cell_type": "code",
   "execution_count": 173,
   "metadata": {
    "scrolled": false
   },
   "outputs": [
    {
     "name": "stdout",
     "output_type": "stream",
     "text": [
      "                       sum_sq      df         F    PR(>F)\n",
      "FormalEducation  6.540294e+17     6.0  0.590714  0.738044\n",
      "Residual         7.999414e+20  4335.0       NaN       NaN\n"
     ]
    }
   ],
   "source": [
    "#ANOVA test\n",
    "import statsmodels.api as sm\n",
    "from statsmodels.formula.api import ols\n",
    "FormalEducation = data['FormalEducation']\n",
    "AdjustedCompensation= data['AdjustedCompensation']\n",
    "\n",
    "formula = \"AdjustedCompensation ~ FormalEducation\"\n",
    "linear_model = ols(formula, data).fit()\n",
    "table = sm.stats.anova_lm(linear_model, typ=2)\n",
    "print(table)"
   ]
  },
  {
   "cell_type": "code",
   "execution_count": null,
   "metadata": {},
   "outputs": [],
   "source": [
    "# remove outliers\n",
    "#then do ANOVA test"
   ]
  },
  {
   "cell_type": "markdown",
   "metadata": {},
   "source": [
    "## Additional Resources\n",
    "\n",
    "Here's the original source where the data was taken from:  \n",
    "    [Kaggle Machine Learning & Data Science Survey 2017](https://www.kaggle.com/kaggle/kaggle-survey-2017)"
   ]
  },
  {
   "cell_type": "markdown",
   "metadata": {},
   "source": [
    "## Summary\n",
    "\n",
    "In this lab, you practiced conducting actual hypothesis tests on actual data. From this, you saw how dependent results can be on the initial problem formulation, including preprocessing!"
   ]
  }
 ],
 "metadata": {
  "kernelspec": {
   "display_name": "Python 3",
   "language": "python",
   "name": "python3"
  },
  "language_info": {
   "codemirror_mode": {
    "name": "ipython",
    "version": 3
   },
   "file_extension": ".py",
   "mimetype": "text/x-python",
   "name": "python",
   "nbconvert_exporter": "python",
   "pygments_lexer": "ipython3",
   "version": "3.8.5"
  },
  "toc": {
   "base_numbering": 1,
   "nav_menu": {},
   "number_sections": true,
   "sideBar": true,
   "skip_h1_title": false,
   "title_cell": "Table of Contents",
   "title_sidebar": "Contents",
   "toc_cell": false,
   "toc_position": {},
   "toc_section_display": true,
   "toc_window_display": false
  }
 },
 "nbformat": 4,
 "nbformat_minor": 2
}
